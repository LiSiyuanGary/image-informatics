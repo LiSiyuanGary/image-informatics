{
 "cells": [
  {
   "cell_type": "markdown",
   "id": "078fddb2",
   "metadata": {},
   "source": [
    "# 1.Packages"
   ]
  },
  {
   "cell_type": "code",
   "execution_count": 1,
   "id": "0ec3e25b",
   "metadata": {},
   "outputs": [],
   "source": [
    "import time\n",
    "import cv2\n",
    "import os\n",
    "import numpy as np\n",
    "import scipy.fftpack as ffpack #Fourier transform API\n",
    "from skimage.metrics import structural_similarity as compare_ssim\n",
    "from skimage.metrics import mean_squared_error as compare_mse\n",
    "from skimage.restoration import denoise_wavelet"
   ]
  },
  {
   "cell_type": "markdown",
   "id": "2f583f60",
   "metadata": {},
   "source": [
    "# 2.MSE and SSIM"
   ]
  },
  {
   "cell_type": "code",
   "execution_count": 2,
   "id": "5b6b704e",
   "metadata": {},
   "outputs": [],
   "source": [
    "def MseAndSsim(OriginalImage,DenoiseImage):\n",
    "    mse=compare_mse(DenoiseImage,OriginalImage)#mse\n",
    "    ssim=compare_ssim(DenoiseImage,OriginalImage,multichannel=True)#ssim\n",
    "    return mse,ssim"
   ]
  },
  {
   "cell_type": "markdown",
   "id": "d747a6a5",
   "metadata": {},
   "source": [
    "# 3.Algorithm"
   ]
  },
  {
   "cell_type": "code",
   "execution_count": 3,
   "id": "592666cf",
   "metadata": {},
   "outputs": [],
   "source": [
    "#Denoise function\n",
    "def Denoise(OriginalImage,NoiseImage):\n",
    "    #Non-local mean method\n",
    "    NoiseImage=cv2.fastNlMeansDenoisingColored(NoiseImage,None,10,10,7,21)\n",
    "    #for noise50\n",
    "    #NoiseImage=cv2.fastNlMeansDenoisingColored(NoiseImage,None,20,20,7,21)\n",
    "    \n",
    "    #chanel split:B、G、R\n",
    "    B,G,R=cv2.split(NoiseImage)\n",
    "    \n",
    "    # B part do Fourier\n",
    "    B_fft=ffpack.fft2(B)\n",
    "    mean_b=np.abs(B_fft).mean()\n",
    "    #High-frequency threshold processing\n",
    "    img_high=np.abs(B_fft)>7e9\n",
    "    #Greater than this value is judged to be 0\n",
    "    B_fft[img_high]=0\n",
    "    #Fourier inverse transform\n",
    "    B_res=ffpack.ifft2(B_fft)\n",
    "    #Take the real part\n",
    "    B_res=np.real(B_res)\n",
    "    #The value ranges from 0 to 255\n",
    "    B_res=np.uint8(B_res)\n",
    "    \n",
    "    # G part\n",
    "    G_fft=ffpack.fft2(G)\n",
    "    mean_g=np.abs(G_fft).mean()\n",
    "    #High-frequency threshold processing\n",
    "    img_high=np.abs(G_fft)>7e9\n",
    "    #Greater than this value is judged to be 0\n",
    "    G_fft[img_high]=0\n",
    "    #Fourier inverse transform\n",
    "    G_res=ffpack.ifft2(G_fft)\n",
    "    #Take the real part\n",
    "    G_res=np.real(G_res)\n",
    "    #The value ranges from 0 to 255\n",
    "    G_res=np.uint8(G_res)\n",
    "    \n",
    "    # R part\n",
    "    R_fft=ffpack.fft2(R)\n",
    "    mean_r=np.abs(R_fft).mean()\n",
    "    #High-frequency threshold processing\n",
    "    img_high=np.abs(R_fft)>7e9\n",
    "    #Greater than this value is judged to be 0\n",
    "    R_fft[img_high]=0\n",
    "    #Fourier inverse transform\n",
    "    R_res=ffpack.ifft2(R_fft)\n",
    "    #Take the real part\n",
    "    R_res=np.real(R_res)\n",
    "    #The value ranges from 0 to 255\n",
    "    R_res=np.uint8(R_res)\n",
    "    \n",
    "    #B,G，R do median filter\n",
    "    B_res1=cv2.medianBlur(B_res,5)\n",
    "    G_res1=cv2.medianBlur(G_res,5)\n",
    "    R_res1=cv2.medianBlur(R_res,5)\n",
    "   \n",
    "    #merge\n",
    "    BGR=cv2.merge([B_res1,G_res1,R_res1])\n",
    "    #mse，ssim\n",
    "    my_mse,my_ssim=MseAndSsim(BGR,OriginalImage)\n",
    "    \n",
    "    #return value\n",
    "    return my_mse,my_ssim,BGR"
   ]
  },
  {
   "cell_type": "code",
   "execution_count": 5,
   "id": "f52dbbe8",
   "metadata": {},
   "outputs": [
    {
     "name": "stderr",
     "output_type": "stream",
     "text": [
      "C:\\Users\\Lenovo\\AppData\\Local\\Temp\\ipykernel_164204\\1667765818.py:3: FutureWarning: `multichannel` is a deprecated argument name for `structural_similarity`. It will be removed in version 1.0. Please use `channel_axis` instead.\n",
      "  ssim=compare_ssim(DenoiseImage,OriginalImage,multichannel=True)#计算ssim\n"
     ]
    },
    {
     "name": "stdout",
     "output_type": "stream",
     "text": [
      "./images/./noisy10/0000.png\n",
      "FT--SSIM:0.9542044847139534  MSE：17.508185396035863\n",
      "./images/./noisy10/0001.png\n",
      "FT--SSIM:0.5834606672657642  MSE：274.6274031040386\n",
      "./images/./noisy10/0002.png\n",
      "FT--SSIM:0.8235744303111643  MSE：48.76062331202518\n",
      "./images/./noisy10/0003.png\n",
      "FT--SSIM:0.6357304814239595  MSE：201.9806585881352\n",
      "./images/./noisy10/0004.png\n",
      "FT--SSIM:0.656515746641177  MSE：228.97689350025797\n"
     ]
    },
    {
     "ename": "KeyboardInterrupt",
     "evalue": "",
     "output_type": "error",
     "traceback": [
      "\u001b[1;31m---------------------------------------------------------------------------\u001b[0m",
      "\u001b[1;31mKeyboardInterrupt\u001b[0m                         Traceback (most recent call last)",
      "Input \u001b[1;32mIn [5]\u001b[0m, in \u001b[0;36m<cell line: 6>\u001b[1;34m()\u001b[0m\n\u001b[0;32m     19\u001b[0m cv2\u001b[38;5;241m.\u001b[39mnamedWindow(\u001b[38;5;124m'\u001b[39m\u001b[38;5;124mimage\u001b[39m\u001b[38;5;124m'\u001b[39m, cv2\u001b[38;5;241m.\u001b[39mWINDOW_NORMAL)\n\u001b[0;32m     20\u001b[0m cv2\u001b[38;5;241m.\u001b[39mimshow(\u001b[38;5;124m\"\u001b[39m\u001b[38;5;124mimage\u001b[39m\u001b[38;5;124m\"\u001b[39m, image)\n\u001b[1;32m---> 21\u001b[0m \u001b[43mcv2\u001b[49m\u001b[38;5;241;43m.\u001b[39;49m\u001b[43mwaitKey\u001b[49m\u001b[43m(\u001b[49m\u001b[38;5;241;43m0\u001b[39;49m\u001b[43m)\u001b[49m\n\u001b[0;32m     22\u001b[0m \u001b[38;5;28mprint\u001b[39m(img1)\n\u001b[0;32m     23\u001b[0m \u001b[38;5;28mprint\u001b[39m(\u001b[38;5;124m'\u001b[39m\u001b[38;5;124mFT--SSIM:\u001b[39m\u001b[38;5;132;01m{}\u001b[39;00m\u001b[38;5;124m  MSE：\u001b[39m\u001b[38;5;132;01m{}\u001b[39;00m\u001b[38;5;124m'\u001b[39m\u001b[38;5;241m.\u001b[39mformat(f_ssim, f_mse))\n",
      "\u001b[1;31mKeyboardInterrupt\u001b[0m: "
     ]
    }
   ],
   "source": [
    "#Traversal folder\n",
    "#path_original = r'C:\\Users\\Lenovo\\Desktop\\My Algorithm\\images\\original'\n",
    "#path_noise = r'C:\\Users\\Lenovo\\Desktop\\My Algorithm\\images\\noisy10'\n",
    "path_original = './images/./original/'\n",
    "path_noise ='./images/./noisy10/'\n",
    "for fname in os.listdir(path_noise):\n",
    "    img = os.path.join(path_original, fname)\n",
    "    img1 = os.path.join(path_noise, fname)\n",
    "    original_img=cv2.imread(img)\n",
    "    img_noise = cv2.imread(img1)\n",
    "    rows, cols = original_img.shape[:2] \n",
    "    img_noise = cv2.resize(img_noise,(cols,rows)) \n",
    "    \n",
    "    #start denoising\n",
    "    f_mse,f_ssim,img_f_denoise = Denoise(original_img, img_noise) \n",
    "    \n",
    "    #show images and print our result\n",
    "    image=np.hstack([original_img,img_noise,img_f_denoise])\n",
    "    cv2.namedWindow('image', cv2.WINDOW_NORMAL)\n",
    "    cv2.imshow(\"image\", image)\n",
    "    cv2.waitKey(0)\n",
    "    print(img1)\n",
    "    print('FT--SSIM:{}  MSE：{}'.format(f_ssim, f_mse))"
   ]
  },
  {
   "cell_type": "markdown",
   "id": "757e3e9e",
   "metadata": {},
   "source": [
    "# 4.Algorithm comparison"
   ]
  },
  {
   "cell_type": "code",
   "execution_count": 6,
   "id": "20cab541",
   "metadata": {},
   "outputs": [],
   "source": [
    "def MedianDenoise(o_img, noise_img):\n",
    "    image_media=cv2.medianBlur(noise_img,5) \n",
    "    mse,ssim=MseAndSsim(image_media,o_img)\n",
    "    return mse,ssim,image_media \n",
    "def WaveletDenoise(o_img, noise_img):\n",
    "    image_wavelet=denoise_wavelet(noise_img,wavelet='db1',mode='soft',wavelet_levels=3,convert2ycbcr=True,multichannel=True,method='BayesShrink')\n",
    "    image_wavelet=np.uint8(image_wavelet*256)\n",
    "    mse,ssim=MseAndSsim(image_media,o_img)\n",
    "    return mse,ssim,image_wavelet \n",
    "def MeanDenoise(o_img, noise_img):\n",
    "    image_means=cv2.blur(noise_img,(1,5))\n",
    "    mse,ssim=MseAndSsim(image_media,o_img)\n",
    "    return mse,ssim,image_means "
   ]
  },
  {
   "cell_type": "code",
   "execution_count": 7,
   "id": "fc6c0905",
   "metadata": {},
   "outputs": [],
   "source": [
    "#load the data\n",
    "o_img=cv2.imread('./images/./original/./0000.png')\n",
    "#noise_img=cv2.imread('./images/./noisy10/./0000.png')\n",
    "#noise_img=cv2.imread('./images/./noisy25/./0004.png')\n",
    "noise_img=cv2.imread('./images/./noisy10/./0000.png')\n",
    "rows, cols = o_img.shape[:2] #获取orinal的高度、宽度\n",
    "noise_img = cv2.resize(noise_img,(cols,rows)) #将噪声图转换为原图同样尺寸"
   ]
  },
  {
   "cell_type": "code",
   "execution_count": 8,
   "id": "66806531",
   "metadata": {},
   "outputs": [
    {
     "name": "stderr",
     "output_type": "stream",
     "text": [
      "C:\\Users\\Lenovo\\AppData\\Local\\Temp\\ipykernel_164204\\1667765818.py:3: FutureWarning: `multichannel` is a deprecated argument name for `structural_similarity`. It will be removed in version 1.0. Please use `channel_axis` instead.\n",
      "  ssim=compare_ssim(DenoiseImage,OriginalImage,multichannel=True)#计算ssim\n",
      "C:\\Users\\Lenovo\\AppData\\Local\\Temp\\ipykernel_164204\\2494223129.py:6: FutureWarning: `multichannel` is a deprecated argument name for `denoise_wavelet`. It will be removed in version 1.0. Please use `channel_axis` instead.\n",
      "  image_wavelet=denoise_wavelet(noise_img,wavelet='db1',mode='soft',wavelet_levels=3,convert2ycbcr=True,multichannel=True,method='BayesShrink')\n"
     ]
    }
   ],
   "source": [
    "#computing\n",
    "median_mse,median_ssim,image_media=MedianDenoise(o_img,noise_img)\n",
    "w_mse,w_ssim,image_w=WaveletDenoise(o_img,noise_img)\n",
    "mean_mse,mean_ssim,image_mean=MeanDenoise(o_img,noise_img)\n",
    "my_mse,my_ssim,image_my=Denoise(o_img,noise_img)"
   ]
  },
  {
   "cell_type": "code",
   "execution_count": 9,
   "id": "14a542a9",
   "metadata": {},
   "outputs": [
    {
     "data": {
      "text/plain": [
       "-1"
      ]
     },
     "execution_count": 9,
     "metadata": {},
     "output_type": "execute_result"
    }
   ],
   "source": [
    "#show imamges\n",
    "cv2.imshow(\"mean filter\", image_mean)\n",
    "cv2.imshow('median filter',image_media)\n",
    "cv2.imshow('wavelet',image_w)\n",
    "cv2.imshow('my',image_my)\n",
    "cv2.waitKey(0)"
   ]
  },
  {
   "cell_type": "code",
   "execution_count": 10,
   "id": "cdc6758e",
   "metadata": {},
   "outputs": [
    {
     "name": "stdout",
     "output_type": "stream",
     "text": [
      " means filter MSE:15.236602526322152, SSIM:0.9360518118953824\n",
      " median filter MSE:15.236602526322152, SSIM:0.9360518118953824\n",
      " wavelet MSE:15.236602526322152, waveletSSIM:0.9360518118953824\n",
      " My MSE:17.508185396035863, MySSIM:0.9542044847139534\n"
     ]
    }
   ],
   "source": [
    "#print result\n",
    "print(' means filter MSE:{}, SSIM:{}'.format(mean_mse,mean_ssim))\n",
    "print(' median filter MSE:{}, SSIM:{}'.format(median_mse,median_ssim))\n",
    "print(' wavelet MSE:{}, waveletSSIM:{}'.format(w_mse,w_ssim))\n",
    "print(' My MSE:{}, MySSIM:{}'.format(my_mse,my_ssim))"
   ]
  },
  {
   "cell_type": "code",
   "execution_count": null,
   "id": "256ece11",
   "metadata": {},
   "outputs": [],
   "source": []
  }
 ],
 "metadata": {
  "kernelspec": {
   "display_name": "Python 3 (ipykernel)",
   "language": "python",
   "name": "python3"
  },
  "language_info": {
   "codemirror_mode": {
    "name": "ipython",
    "version": 3
   },
   "file_extension": ".py",
   "mimetype": "text/x-python",
   "name": "python",
   "nbconvert_exporter": "python",
   "pygments_lexer": "ipython3",
   "version": "3.9.12"
  }
 },
 "nbformat": 4,
 "nbformat_minor": 5
}
